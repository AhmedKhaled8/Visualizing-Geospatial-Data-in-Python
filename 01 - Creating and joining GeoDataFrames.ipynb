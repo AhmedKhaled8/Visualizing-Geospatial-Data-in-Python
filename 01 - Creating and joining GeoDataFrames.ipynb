{
 "cells": [
  {
   "cell_type": "markdown",
   "metadata": {},
   "source": [
    "In this notebook, we will:\n",
    "* deal with the *GeoJSON* Files to create polygonal plots\n",
    "* learn about projections and coordinate reference\n",
    "* get practice spatially joining data"
   ]
  },
  {
   "cell_type": "code",
   "execution_count": 1,
   "metadata": {},
   "outputs": [],
   "source": [
    "import numpy as np\n",
    "import pandas as pd\n",
    "import matplotlib.pyplot as plt\n",
    "import seaborn as sns\n",
    "import geopandas as gpd"
   ]
  },
  {
   "cell_type": "markdown",
   "metadata": {},
   "source": [
    "GeoJSON is another type of files that we can use to store geospatial data and create geospatial visualizations. Unlike shapefiles, GeoJSON is a single file making it easier to work with."
   ]
  },
  {
   "cell_type": "markdown",
   "metadata": {},
   "source": [
    "The first lines (of many) of *nashville-neighborhoods.geojson* look like this,\n",
    "\n",
    "```\n",
    "\"type\":\"Feature\",\n",
    "        \"properties\":{\n",
    "      \"name\":\"Historic Buena Vista\"\n",
    "      },\"geometry\":{\n",
    "          \"type\":\"MultiPolygon\",\"coordinates\":[[[[-86.79511056795417,36.17575964963348],[-86.79403325521203,36.176723819622765],[-86.79395847673587...\n",
    "```\n",
    "\n",
    "The properties are mapped to our geodataframe when reading using geopandas like this..."
   ]
  },
  {
   "cell_type": "code",
   "execution_count": 2,
   "metadata": {},
   "outputs": [
    {
     "data": {
      "text/html": [
       "<div>\n",
       "<style scoped>\n",
       "    .dataframe tbody tr th:only-of-type {\n",
       "        vertical-align: middle;\n",
       "    }\n",
       "\n",
       "    .dataframe tbody tr th {\n",
       "        vertical-align: top;\n",
       "    }\n",
       "\n",
       "    .dataframe thead th {\n",
       "        text-align: right;\n",
       "    }\n",
       "</style>\n",
       "<table border=\"1\" class=\"dataframe\">\n",
       "  <thead>\n",
       "    <tr style=\"text-align: right;\">\n",
       "      <th></th>\n",
       "      <th>name</th>\n",
       "      <th>geometry</th>\n",
       "    </tr>\n",
       "  </thead>\n",
       "  <tbody>\n",
       "    <tr>\n",
       "      <th>0</th>\n",
       "      <td>Historic Buena Vista</td>\n",
       "      <td>MULTIPOLYGON (((-86.79511 36.17576, -86.79403 ...</td>\n",
       "    </tr>\n",
       "    <tr>\n",
       "      <th>1</th>\n",
       "      <td>Charlotte Park</td>\n",
       "      <td>MULTIPOLYGON (((-86.87460 36.15758, -86.87317 ...</td>\n",
       "    </tr>\n",
       "    <tr>\n",
       "      <th>2</th>\n",
       "      <td>Hillwood</td>\n",
       "      <td>MULTIPOLYGON (((-86.87614 36.13554, -86.87583 ...</td>\n",
       "    </tr>\n",
       "    <tr>\n",
       "      <th>3</th>\n",
       "      <td>West Meade</td>\n",
       "      <td>MULTIPOLYGON (((-86.90384 36.12554, -86.90328 ...</td>\n",
       "    </tr>\n",
       "    <tr>\n",
       "      <th>4</th>\n",
       "      <td>White Bridge</td>\n",
       "      <td>MULTIPOLYGON (((-86.86321 36.12886, -86.86321 ...</td>\n",
       "    </tr>\n",
       "  </tbody>\n",
       "</table>\n",
       "</div>"
      ],
      "text/plain": [
       "                   name                                           geometry\n",
       "0  Historic Buena Vista  MULTIPOLYGON (((-86.79511 36.17576, -86.79403 ...\n",
       "1        Charlotte Park  MULTIPOLYGON (((-86.87460 36.15758, -86.87317 ...\n",
       "2              Hillwood  MULTIPOLYGON (((-86.87614 36.13554, -86.87583 ...\n",
       "3            West Meade  MULTIPOLYGON (((-86.90384 36.12554, -86.90328 ...\n",
       "4          White Bridge  MULTIPOLYGON (((-86.86321 36.12886, -86.86321 ..."
      ]
     },
     "execution_count": 2,
     "metadata": {},
     "output_type": "execute_result"
    }
   ],
   "source": [
    "neigborhoods = gpd.read_file(\"assets/nashville-neighborhoods.geojson\")\n",
    "neigborhoods.head()"
   ]
  },
  {
   "cell_type": "markdown",
   "metadata": {},
   "source": [
    "Geopandas is installed with some dependencies that makes it easy to deal with:\n",
    "* the vector data which is the geospatial data made up of points, lines and polygons. This is dealt by *fiona* which is a python API for *OGR* (Open GIS Reference). We will deal with vector graphics through these notebooks.\n",
    "* the raster data can be thought as grid maps. This is dealt by *GDAL*."
   ]
  },
  {
   "cell_type": "markdown",
   "metadata": {},
   "source": [
    "### Colormaps and legends for geopandas plots"
   ]
  },
  {
   "cell_type": "markdown",
   "metadata": {},
   "source": [
    "We can specify a qualitative (categorial) color map (paletted) using the `cmap` argument in the `plot` method of the `GeoDataFrame`. We can also modify some properties of the legend of the mapped colors using the `legend_kwds` argument.\n",
    "\n",
    "\n",
    "```python\n",
    "neigborhoods.plot(\n",
    "    column = \"name\",\n",
    "    legend = True,\n",
    "    cmap = \"Set3\",\n",
    "    legend_kwds = {\n",
    "        \"title\": \"Neighborhood\",\n",
    "        \"loc\": \"upper left\",\n",
    "        \"bbox_to_anchor\": (1, 1.03),\n",
    "        \"ncol\": 3\n",
    "    }\n",
    ")\n",
    "```"
   ]
  },
  {
   "cell_type": "code",
   "execution_count": 3,
   "metadata": {},
   "outputs": [
    {
     "data": {
      "text/html": [
       "<div>\n",
       "<style scoped>\n",
       "    .dataframe tbody tr th:only-of-type {\n",
       "        vertical-align: middle;\n",
       "    }\n",
       "\n",
       "    .dataframe tbody tr th {\n",
       "        vertical-align: top;\n",
       "    }\n",
       "\n",
       "    .dataframe thead th {\n",
       "        text-align: right;\n",
       "    }\n",
       "</style>\n",
       "<table border=\"1\" class=\"dataframe\">\n",
       "  <thead>\n",
       "    <tr style=\"text-align: right;\">\n",
       "      <th></th>\n",
       "      <th>first_name</th>\n",
       "      <th>email</th>\n",
       "      <th>res_phone</th>\n",
       "      <th>bus_phone</th>\n",
       "      <th>last_name</th>\n",
       "      <th>position</th>\n",
       "      <th>district</th>\n",
       "      <th>geometry</th>\n",
       "    </tr>\n",
       "  </thead>\n",
       "  <tbody>\n",
       "    <tr>\n",
       "      <th>0</th>\n",
       "      <td>Nick</td>\n",
       "      <td>nick.leonardo@nashville.gov</td>\n",
       "      <td>615-509-6334</td>\n",
       "      <td>615-862-6780</td>\n",
       "      <td>Leonardo</td>\n",
       "      <td>Council Member</td>\n",
       "      <td>1</td>\n",
       "      <td>MULTIPOLYGON (((-86.90738 36.39052, -86.90725 ...</td>\n",
       "    </tr>\n",
       "    <tr>\n",
       "      <th>1</th>\n",
       "      <td>DeCosta</td>\n",
       "      <td>decosta.hastings@nashville.gov</td>\n",
       "      <td>615-779-1565</td>\n",
       "      <td>615-862-6780</td>\n",
       "      <td>Hastings</td>\n",
       "      <td>Council Member</td>\n",
       "      <td>2</td>\n",
       "      <td>MULTIPOLYGON (((-86.75902 36.23091, -86.75909 ...</td>\n",
       "    </tr>\n",
       "    <tr>\n",
       "      <th>2</th>\n",
       "      <td>Nancy</td>\n",
       "      <td>nancy.vanreece@nashville.gov</td>\n",
       "      <td>615-576-0488</td>\n",
       "      <td>615-862-6780</td>\n",
       "      <td>VanReece</td>\n",
       "      <td>Council Member</td>\n",
       "      <td>8</td>\n",
       "      <td>MULTIPOLYGON (((-86.72850 36.28328, -86.72791 ...</td>\n",
       "    </tr>\n",
       "    <tr>\n",
       "      <th>3</th>\n",
       "      <td>Bill</td>\n",
       "      <td>bill.pridemore@nashville.gov</td>\n",
       "      <td>615-915-1419</td>\n",
       "      <td>615-862-6780</td>\n",
       "      <td>Pridemore</td>\n",
       "      <td>Council Member</td>\n",
       "      <td>9</td>\n",
       "      <td>MULTIPOLYGON (((-86.68681 36.28671, -86.68706 ...</td>\n",
       "    </tr>\n",
       "    <tr>\n",
       "      <th>4</th>\n",
       "      <td>Robert</td>\n",
       "      <td>robert.swope@nashville.gov</td>\n",
       "      <td>615-308-0577</td>\n",
       "      <td>615-862-6780</td>\n",
       "      <td>Swope</td>\n",
       "      <td>Council Member</td>\n",
       "      <td>4</td>\n",
       "      <td>MULTIPOLYGON (((-86.74489 36.05316, -86.74491 ...</td>\n",
       "    </tr>\n",
       "  </tbody>\n",
       "</table>\n",
       "</div>"
      ],
      "text/plain": [
       "  first_name                           email     res_phone     bus_phone  \\\n",
       "0       Nick     nick.leonardo@nashville.gov  615-509-6334  615-862-6780   \n",
       "1    DeCosta  decosta.hastings@nashville.gov  615-779-1565  615-862-6780   \n",
       "2      Nancy    nancy.vanreece@nashville.gov  615-576-0488  615-862-6780   \n",
       "3       Bill    bill.pridemore@nashville.gov  615-915-1419  615-862-6780   \n",
       "4     Robert      robert.swope@nashville.gov  615-308-0577  615-862-6780   \n",
       "\n",
       "   last_name        position district  \\\n",
       "0   Leonardo  Council Member        1   \n",
       "1   Hastings  Council Member        2   \n",
       "2   VanReece  Council Member        8   \n",
       "3  Pridemore  Council Member        9   \n",
       "4      Swope  Council Member        4   \n",
       "\n",
       "                                            geometry  \n",
       "0  MULTIPOLYGON (((-86.90738 36.39052, -86.90725 ...  \n",
       "1  MULTIPOLYGON (((-86.75902 36.23091, -86.75909 ...  \n",
       "2  MULTIPOLYGON (((-86.72850 36.28328, -86.72791 ...  \n",
       "3  MULTIPOLYGON (((-86.68681 36.28671, -86.68706 ...  \n",
       "4  MULTIPOLYGON (((-86.74489 36.05316, -86.74491 ...  "
      ]
     },
     "execution_count": 3,
     "metadata": {},
     "output_type": "execute_result"
    }
   ],
   "source": [
    "council_dists = gpd.read_file(\"assets/council_districts.geojson\")\n",
    "council_dists.head()"
   ]
  },
  {
   "cell_type": "code",
   "execution_count": 4,
   "metadata": {},
   "outputs": [
    {
     "data": {
      "text/plain": [
       "<AxesSubplot:>"
      ]
     },
     "execution_count": 4,
     "metadata": {},
     "output_type": "execute_result"
    },
    {
     "data": {
      "image/png": "[encoded data removed]",
      "text/plain": [
       "<Figure size 432x288 with 1 Axes>"
      ]
     },
     "metadata": {
      "needs_background": "light"
     },
     "output_type": "display_data"
    }
   ],
   "source": [
    "council_dists.plot(\n",
    "    column = \"district\",\n",
    "    legend = True,\n",
    "    cmap = \"Set3\",\n",
    "    legend_kwds = {\n",
    "        \"title\": \"District Number\",\n",
    "        \"loc\": \"upper left\",\n",
    "        \"bbox_to_anchor\": (1, 1.03),\n",
    "        \"ncol\": 3,\n",
    "    }\n",
    ")"
   ]
  },
  {
   "cell_type": "code",
   "execution_count": 5,
   "metadata": {},
   "outputs": [
    {
     "data": {
      "text/html": [
       "<div>\n",
       "<style scoped>\n",
       "    .dataframe tbody tr th:only-of-type {\n",
       "        vertical-align: middle;\n",
       "    }\n",
       "\n",
       "    .dataframe tbody tr th {\n",
       "        vertical-align: top;\n",
       "    }\n",
       "\n",
       "    .dataframe thead th {\n",
       "        text-align: right;\n",
       "    }\n",
       "</style>\n",
       "<table border=\"1\" class=\"dataframe\">\n",
       "  <thead>\n",
       "    <tr style=\"text-align: right;\">\n",
       "      <th></th>\n",
       "      <th>first_name</th>\n",
       "      <th>city</th>\n",
       "      <th>zip</th>\n",
       "      <th>email</th>\n",
       "      <th>state</th>\n",
       "      <th>last_name</th>\n",
       "      <th>address</th>\n",
       "      <th>position</th>\n",
       "      <th>term_expir</th>\n",
       "      <th>district</th>\n",
       "      <th>phone</th>\n",
       "      <th>geometry</th>\n",
       "    </tr>\n",
       "  </thead>\n",
       "  <tbody>\n",
       "    <tr>\n",
       "      <th>0</th>\n",
       "      <td>Dr. Sharon</td>\n",
       "      <td>Nashville</td>\n",
       "      <td>37218</td>\n",
       "      <td>gentryfordistrict1@comcast.net</td>\n",
       "      <td>TN</td>\n",
       "      <td>Gentry</td>\n",
       "      <td>6108 Beals Lane</td>\n",
       "      <td>Member</td>\n",
       "      <td>2016</td>\n",
       "      <td>1</td>\n",
       "      <td>615-268-5269</td>\n",
       "      <td>MULTIPOLYGON (((-86.77136 36.38357, -86.77134 ...</td>\n",
       "    </tr>\n",
       "  </tbody>\n",
       "</table>\n",
       "</div>"
      ],
      "text/plain": [
       "   first_name       city    zip                           email state  \\\n",
       "0  Dr. Sharon  Nashville  37218  gentryfordistrict1@comcast.net    TN   \n",
       "\n",
       "  last_name          address position term_expir district         phone  \\\n",
       "0    Gentry  6108 Beals Lane   Member       2016        1  615-268-5269   \n",
       "\n",
       "                                            geometry  \n",
       "0  MULTIPOLYGON (((-86.77136 36.38357, -86.77134 ...  "
      ]
     },
     "execution_count": 5,
     "metadata": {},
     "output_type": "execute_result"
    }
   ],
   "source": [
    "school_dists = gpd.read_file(\"assets/school-district.geojson\")\n",
    "school_dists.head(1)"
   ]
  },
  {
   "cell_type": "code",
   "execution_count": 6,
   "metadata": {},
   "outputs": [
    {
     "data": {
      "text/plain": [
       "<AxesSubplot:>"
      ]
     },
     "execution_count": 6,
     "metadata": {},
     "output_type": "execute_result"
    },
    {
     "data": {
      "image/png": "[encoded data removed]",
      "text/plain": [
       "<Figure size 432x288 with 1 Axes>"
      ]
     },
     "metadata": {
      "needs_background": "light"
     },
     "output_type": "display_data"
    }
   ],
   "source": [
    "school_dists.plot(\n",
    "    column = \"district\",\n",
    "    legend = True,\n",
    "    cmap = \"Set3\",\n",
    "    legend_kwds = {\n",
    "        \"title\": \"District Number\",\n",
    "        \"loc\": \"upper left\",\n",
    "        \"bbox_to_anchor\": (1, 1.03)\n",
    "    }\n",
    ")"
   ]
  },
  {
   "cell_type": "code",
   "execution_count": 7,
   "metadata": {},
   "outputs": [
    {
     "data": {
      "text/plain": [
       "<AxesSubplot:>"
      ]
     },
     "execution_count": 7,
     "metadata": {},
     "output_type": "execute_result"
    },
    {
     "data": {
      "image/png": "[encoded data removed]",
      "text/plain": [
       "<Figure size 432x288 with 1 Axes>"
      ]
     },
     "metadata": {
      "needs_background": "light"
     },
     "output_type": "display_data"
    }
   ],
   "source": [
    "neigborhoods.plot(\n",
    "    column = \"name\",\n",
    "    cmap = \"summer\"\n",
    ")"
   ]
  },
  {
   "cell_type": "markdown",
   "metadata": {},
   "source": [
    "#### Projections and Coordinate Reference Systems"
   ]
  },
  {
   "cell_type": "markdown",
   "metadata": {},
   "source": [
    "A map projection is the way we visualize the 3d world into a 2d plane. The most common projection is the [Mercator projection](https://en.wikipedia.org/wiki/Mercator_projection#:~:text=The%20Mercator%20projection%20(%2Fm%C9%99r,cartographer%20Gerardus%20Mercator%20in%201569.&text=The%20map%20is%20thereby%20conformal,objects%20away%20from%20the%20equator.)). Setting the coordinate reference system (CRS) to the `GeoDataFrame` tells `geopandas` how to interpret the longitude and latitude coordinates. The common CRSs are:\n",
    "* EPSG:4326 : this is used by Google Earth and the units here are decimal degrees.\n",
    "* EPSG:3857 : this is used by Google Maps, Bing Maps, Open Street Maps and the units here are meters."
   ]
  },
  {
   "cell_type": "markdown",
   "metadata": {},
   "source": [
    "### Geometry Columns"
   ]
  },
  {
   "cell_type": "markdown",
   "metadata": {},
   "source": [
    "To create the geometry columns from a dataframe. We can use the `gemoetry` module in the `shapely` library to import a `Point` class that will construct our representation of the geometry. `shapely` is a module that allows us to create and work with points, lines, and ploygons."
   ]
  },
  {
   "cell_type": "code",
   "execution_count": 41,
   "metadata": {},
   "outputs": [
    {
     "name": "stderr",
     "output_type": "stream",
     "text": [
      "C:\\Users\\U\\AppData\\Local\\Programs\\Python\\Python39\\lib\\site-packages\\pandas\\core\\dtypes\\cast.py:118: ShapelyDeprecationWarning: The array interface is deprecated and will no longer work in Shapely 2.0. Convert the '.coords' to a numpy array instead.\n",
      "  arr = construct_1d_object_array_from_listlike(values)\n"
     ]
    }
   ],
   "source": [
    "from shapely.geometry import Point\n",
    "\n",
    "schools = pd.read_csv(\"assets/schools.csv\")\n",
    "\n",
    "schools[\"geometry\"] = schools.apply(lambda row: Point(row.Longitude, row.Latitude), axis = 1)"
   ]
  },
  {
   "cell_type": "markdown",
   "metadata": {},
   "source": [
    "To construct a `GeoDataFrame` from the `pd.DataFrame`, we should call the `GeoDataFrame` constructor and pass the `pd.DataFrame` object with specifying the `crs` and `geometry` to the CRS we are going to use, usually `epsg:4326` and the geometry column which is `schools.geometry` here.\n",
    "\n",
    "```python\n",
    "schools_geo_df = gpd.DataFrame(\n",
    "    schools,\n",
    "    crs = \"epsg:4326\",\n",
    "    geometry = schools.geometry\n",
    ")\n",
    "```"
   ]
  },
  {
   "cell_type": "code",
   "execution_count": 9,
   "metadata": {},
   "outputs": [],
   "source": [
    "schools_geo_df = gpd.GeoDataFrame(\n",
    "    schools,\n",
    "    crs = \"epsg:4326\",\n",
    "    geometry = schools.geometry\n",
    ")"
   ]
  },
  {
   "cell_type": "code",
   "execution_count": 10,
   "metadata": {},
   "outputs": [
    {
     "data": {
      "text/html": [
       "<div>\n",
       "<style scoped>\n",
       "    .dataframe tbody tr th:only-of-type {\n",
       "        vertical-align: middle;\n",
       "    }\n",
       "\n",
       "    .dataframe tbody tr th {\n",
       "        vertical-align: top;\n",
       "    }\n",
       "\n",
       "    .dataframe thead th {\n",
       "        text-align: right;\n",
       "    }\n",
       "</style>\n",
       "<table border=\"1\" class=\"dataframe\">\n",
       "  <thead>\n",
       "    <tr style=\"text-align: right;\">\n",
       "      <th></th>\n",
       "      <th>School ID</th>\n",
       "      <th>School Name</th>\n",
       "      <th>Street Address</th>\n",
       "      <th>City</th>\n",
       "      <th>State</th>\n",
       "      <th>ZIP Code</th>\n",
       "      <th>Phone Number</th>\n",
       "      <th>School State ID</th>\n",
       "      <th>School Level</th>\n",
       "      <th>Lowest Grade</th>\n",
       "      <th>Highest Grade</th>\n",
       "      <th>Latitude</th>\n",
       "      <th>Longitude</th>\n",
       "      <th>School Website</th>\n",
       "      <th>Cluster</th>\n",
       "      <th>Mapped Location</th>\n",
       "      <th>geometry</th>\n",
       "    </tr>\n",
       "  </thead>\n",
       "  <tbody>\n",
       "    <tr>\n",
       "      <th>0</th>\n",
       "      <td>496</td>\n",
       "      <td>A. Z. Kelley Elementary</td>\n",
       "      <td>5834 Pettus Road</td>\n",
       "      <td>Antioch</td>\n",
       "      <td>TN</td>\n",
       "      <td>37013</td>\n",
       "      <td>(615)941-7535</td>\n",
       "      <td>1</td>\n",
       "      <td>Elementary School</td>\n",
       "      <td>Grade P3</td>\n",
       "      <td>Grade 4</td>\n",
       "      <td>36.021817</td>\n",
       "      <td>-86.658848</td>\n",
       "      <td>http://schools.mnps.org/az-kelley-elementary-s...</td>\n",
       "      <td>Cane Ridge</td>\n",
       "      <td>(36.02181712, -86.65884778)</td>\n",
       "      <td>POINT (-86.65885 36.02182)</td>\n",
       "    </tr>\n",
       "    <tr>\n",
       "      <th>1</th>\n",
       "      <td>375</td>\n",
       "      <td>Alex Green Elementary</td>\n",
       "      <td>3921 Lloyd Road</td>\n",
       "      <td>Whites Creek</td>\n",
       "      <td>TN</td>\n",
       "      <td>37189</td>\n",
       "      <td>(615)876-5105</td>\n",
       "      <td>5</td>\n",
       "      <td>Elementary School</td>\n",
       "      <td>Grade P4</td>\n",
       "      <td>Grade 4</td>\n",
       "      <td>36.252961</td>\n",
       "      <td>-86.832229</td>\n",
       "      <td>http://schools.mnps.org/alex-green-elementary-...</td>\n",
       "      <td>Whites Creek</td>\n",
       "      <td>(36.2529607, -86.8322292)</td>\n",
       "      <td>POINT (-86.83223 36.25296)</td>\n",
       "    </tr>\n",
       "  </tbody>\n",
       "</table>\n",
       "</div>"
      ],
      "text/plain": [
       "   School ID              School Name    Street Address          City State  \\\n",
       "0        496  A. Z. Kelley Elementary  5834 Pettus Road       Antioch    TN   \n",
       "1        375    Alex Green Elementary   3921 Lloyd Road  Whites Creek    TN   \n",
       "\n",
       "   ZIP Code   Phone Number  School State ID       School Level Lowest Grade  \\\n",
       "0     37013  (615)941-7535                1  Elementary School     Grade P3   \n",
       "1     37189  (615)876-5105                5  Elementary School     Grade P4   \n",
       "\n",
       "  Highest Grade   Latitude  Longitude  \\\n",
       "0       Grade 4  36.021817 -86.658848   \n",
       "1       Grade 4  36.252961 -86.832229   \n",
       "\n",
       "                                      School Website       Cluster  \\\n",
       "0  http://schools.mnps.org/az-kelley-elementary-s...    Cane Ridge   \n",
       "1  http://schools.mnps.org/alex-green-elementary-...  Whites Creek   \n",
       "\n",
       "               Mapped Location                    geometry  \n",
       "0  (36.02181712, -86.65884778)  POINT (-86.65885 36.02182)  \n",
       "1    (36.2529607, -86.8322292)  POINT (-86.83223 36.25296)  "
      ]
     },
     "execution_count": 10,
     "metadata": {},
     "output_type": "execute_result"
    }
   ],
   "source": [
    "schools_geo_df.head(2)"
   ]
  },
  {
   "cell_type": "markdown",
   "metadata": {},
   "source": [
    "We can change the CRS of the geometry column of `GeoDataFrame` using the `to_crs` method."
   ]
  },
  {
   "cell_type": "code",
   "execution_count": 11,
   "metadata": {},
   "outputs": [],
   "source": [
    "schools_geo_df.geometry = schools_geo_df.geometry.to_crs(epsg = 3857)"
   ]
  },
  {
   "cell_type": "code",
   "execution_count": 12,
   "metadata": {},
   "outputs": [
    {
     "data": {
      "text/html": [
       "<div>\n",
       "<style scoped>\n",
       "    .dataframe tbody tr th:only-of-type {\n",
       "        vertical-align: middle;\n",
       "    }\n",
       "\n",
       "    .dataframe tbody tr th {\n",
       "        vertical-align: top;\n",
       "    }\n",
       "\n",
       "    .dataframe thead th {\n",
       "        text-align: right;\n",
       "    }\n",
       "</style>\n",
       "<table border=\"1\" class=\"dataframe\">\n",
       "  <thead>\n",
       "    <tr style=\"text-align: right;\">\n",
       "      <th></th>\n",
       "      <th>School ID</th>\n",
       "      <th>School Name</th>\n",
       "      <th>Street Address</th>\n",
       "      <th>City</th>\n",
       "      <th>State</th>\n",
       "      <th>ZIP Code</th>\n",
       "      <th>Phone Number</th>\n",
       "      <th>School State ID</th>\n",
       "      <th>School Level</th>\n",
       "      <th>Lowest Grade</th>\n",
       "      <th>Highest Grade</th>\n",
       "      <th>Latitude</th>\n",
       "      <th>Longitude</th>\n",
       "      <th>School Website</th>\n",
       "      <th>Cluster</th>\n",
       "      <th>Mapped Location</th>\n",
       "      <th>geometry</th>\n",
       "    </tr>\n",
       "  </thead>\n",
       "  <tbody>\n",
       "    <tr>\n",
       "      <th>0</th>\n",
       "      <td>496</td>\n",
       "      <td>A. Z. Kelley Elementary</td>\n",
       "      <td>5834 Pettus Road</td>\n",
       "      <td>Antioch</td>\n",
       "      <td>TN</td>\n",
       "      <td>37013</td>\n",
       "      <td>(615)941-7535</td>\n",
       "      <td>1</td>\n",
       "      <td>Elementary School</td>\n",
       "      <td>Grade P3</td>\n",
       "      <td>Grade 4</td>\n",
       "      <td>36.021817</td>\n",
       "      <td>-86.658848</td>\n",
       "      <td>http://schools.mnps.org/az-kelley-elementary-s...</td>\n",
       "      <td>Cane Ridge</td>\n",
       "      <td>(36.02181712, -86.65884778)</td>\n",
       "      <td>POINT (-9646818.808 4303623.790)</td>\n",
       "    </tr>\n",
       "    <tr>\n",
       "      <th>1</th>\n",
       "      <td>375</td>\n",
       "      <td>Alex Green Elementary</td>\n",
       "      <td>3921 Lloyd Road</td>\n",
       "      <td>Whites Creek</td>\n",
       "      <td>TN</td>\n",
       "      <td>37189</td>\n",
       "      <td>(615)876-5105</td>\n",
       "      <td>5</td>\n",
       "      <td>Elementary School</td>\n",
       "      <td>Grade P4</td>\n",
       "      <td>Grade 4</td>\n",
       "      <td>36.252961</td>\n",
       "      <td>-86.832229</td>\n",
       "      <td>http://schools.mnps.org/alex-green-elementary-...</td>\n",
       "      <td>Whites Creek</td>\n",
       "      <td>(36.2529607, -86.8322292)</td>\n",
       "      <td>POINT (-9666119.539 4335484.432)</td>\n",
       "    </tr>\n",
       "  </tbody>\n",
       "</table>\n",
       "</div>"
      ],
      "text/plain": [
       "   School ID              School Name    Street Address          City State  \\\n",
       "0        496  A. Z. Kelley Elementary  5834 Pettus Road       Antioch    TN   \n",
       "1        375    Alex Green Elementary   3921 Lloyd Road  Whites Creek    TN   \n",
       "\n",
       "   ZIP Code   Phone Number  School State ID       School Level Lowest Grade  \\\n",
       "0     37013  (615)941-7535                1  Elementary School     Grade P3   \n",
       "1     37189  (615)876-5105                5  Elementary School     Grade P4   \n",
       "\n",
       "  Highest Grade   Latitude  Longitude  \\\n",
       "0       Grade 4  36.021817 -86.658848   \n",
       "1       Grade 4  36.252961 -86.832229   \n",
       "\n",
       "                                      School Website       Cluster  \\\n",
       "0  http://schools.mnps.org/az-kelley-elementary-s...    Cane Ridge   \n",
       "1  http://schools.mnps.org/alex-green-elementary-...  Whites Creek   \n",
       "\n",
       "               Mapped Location                          geometry  \n",
       "0  (36.02181712, -86.65884778)  POINT (-9646818.808 4303623.790)  \n",
       "1    (36.2529607, -86.8322292)  POINT (-9666119.539 4335484.432)  "
      ]
     },
     "execution_count": 12,
     "metadata": {},
     "output_type": "execute_result"
    }
   ],
   "source": [
    "schools_geo_df.head(2)"
   ]
  },
  {
   "cell_type": "markdown",
   "metadata": {},
   "source": [
    "### Spatially joining two GeoDataFrames"
   ]
  },
  {
   "cell_type": "markdown",
   "metadata": {},
   "source": [
    "Let's say we have the 2 following geodataframes"
   ]
  },
  {
   "cell_type": "code",
   "execution_count": 13,
   "metadata": {},
   "outputs": [
    {
     "data": {
      "text/plain": [
       "Text(0.5, 1.0, 'School Districts')"
      ]
     },
     "execution_count": 13,
     "metadata": {},
     "output_type": "execute_result"
    },
    {
     "data": {
      "image/png": "[encoded data removed]",
      "text/plain": [
       "<Figure size 1440x432 with 2 Axes>"
      ]
     },
     "metadata": {
      "needs_background": "light"
     },
     "output_type": "display_data"
    }
   ],
   "source": [
    "fig, ax = plt.subplots(1, 2, figsize = (20, 6))\n",
    "\n",
    "council_dists.plot(\n",
    "    column = \"district\",\n",
    "    legend = True,\n",
    "    cmap = \"Set3\",\n",
    "    legend_kwds = {\n",
    "        \"title\": \"District Number\",\n",
    "        \"loc\": \"upper left\",\n",
    "        \"bbox_to_anchor\": (1, 1.03),\n",
    "        \"ncol\": 3,\n",
    "    },\n",
    "    ax = ax[0]\n",
    ")\n",
    "\n",
    "ax[0].set_title(\"Council Districts\")\n",
    "\n",
    "school_dists.plot(\n",
    "    column = \"district\",\n",
    "    legend = True,\n",
    "    cmap = \"Set3\",\n",
    "    legend_kwds = {\n",
    "        \"title\": \"District Number\",\n",
    "        \"loc\": \"upper left\",\n",
    "        \"bbox_to_anchor\": (1, 1.03)\n",
    "    },\n",
    "    ax = ax[1]\n",
    ")\n",
    "\n",
    "ax[1].set_title(\"School Districts\")"
   ]
  },
  {
   "cell_type": "markdown",
   "metadata": {},
   "source": [
    "We want to know if there are council districts are contained completely within a school district ? Or if there are any council district intersects with any school district ? Here, spatial joining the 2 geodataframes can be very helpful.\n",
    "\n",
    "We can spatially join the 2 geodataframes using the `sjoin` function.\n",
    "\n",
    "\n",
    "```python\n",
    "gpd.sjoin(\n",
    "    first_geo_df,\n",
    "    second_goe_df,\n",
    "    predicate = join operation\n",
    ")\n",
    "```\n",
    "\n",
    "The `predicate` argument here is the type of operation we want to join the two geodataframes based on. It can be:\n",
    "\n",
    "* `\"intersects\"` : return all observations where the 2 geodataframes *intersect* each other.\n",
    "* `\"contains\"` : return all observations where the first dataframe *compeletely contains* the second one.\n",
    "* `\"within\"` : return all observations where the first dataframe *are completely within* the second one.\n",
    "\n",
    "And we can use of the shape of the resulting geodataframe to know how many observations results from the joining operation."
   ]
  },
  {
   "cell_type": "code",
   "execution_count": 18,
   "metadata": {},
   "outputs": [
    {
     "name": "stdout",
     "output_type": "stream",
     "text": [
      "Number of council districts within school districts is 11\n"
     ]
    }
   ],
   "source": [
    "within_gdf = gpd.sjoin(council_dists, school_dists, predicate = \"within\")\n",
    "\n",
    "print(\"Number of council districts within school districts is {}\".format(within_gdf.shape[0]))"
   ]
  },
  {
   "cell_type": "code",
   "execution_count": 19,
   "metadata": {},
   "outputs": [
    {
     "name": "stdout",
     "output_type": "stream",
     "text": [
      "Number of school districts contain school districts is 11\n"
     ]
    }
   ],
   "source": [
    "contains_gdf = gpd.sjoin(school_dists, council_dists, predicate = \"contains\")\n",
    "\n",
    "print(\"Number of school districts contain school districts is {}\".format(contains_gdf.shape[0]))"
   ]
  },
  {
   "cell_type": "code",
   "execution_count": 20,
   "metadata": {},
   "outputs": [
    {
     "name": "stdout",
     "output_type": "stream",
     "text": [
      "Number of school districts contain school districts is 100\n"
     ]
    }
   ],
   "source": [
    "intersects_gdf = gpd.sjoin(school_dists, council_dists, predicate = \"intersects\")\n",
    "\n",
    "print(\"Number of school districts contain school districts is {}\".format(intersects_gdf.shape[0]))"
   ]
  },
  {
   "cell_type": "code",
   "execution_count": 21,
   "metadata": {},
   "outputs": [
    {
     "data": {
      "text/html": [
       "<div>\n",
       "<style scoped>\n",
       "    .dataframe tbody tr th:only-of-type {\n",
       "        vertical-align: middle;\n",
       "    }\n",
       "\n",
       "    .dataframe tbody tr th {\n",
       "        vertical-align: top;\n",
       "    }\n",
       "\n",
       "    .dataframe thead th {\n",
       "        text-align: right;\n",
       "    }\n",
       "</style>\n",
       "<table border=\"1\" class=\"dataframe\">\n",
       "  <thead>\n",
       "    <tr style=\"text-align: right;\">\n",
       "      <th></th>\n",
       "      <th>first_name_left</th>\n",
       "      <th>email_left</th>\n",
       "      <th>res_phone</th>\n",
       "      <th>bus_phone</th>\n",
       "      <th>last_name_left</th>\n",
       "      <th>position_left</th>\n",
       "      <th>district_left</th>\n",
       "      <th>geometry</th>\n",
       "      <th>index_right</th>\n",
       "      <th>first_name_right</th>\n",
       "      <th>city</th>\n",
       "      <th>zip</th>\n",
       "      <th>email_right</th>\n",
       "      <th>state</th>\n",
       "      <th>last_name_right</th>\n",
       "      <th>address</th>\n",
       "      <th>position_right</th>\n",
       "      <th>term_expir</th>\n",
       "      <th>district_right</th>\n",
       "      <th>phone</th>\n",
       "    </tr>\n",
       "  </thead>\n",
       "  <tbody>\n",
       "    <tr>\n",
       "      <th>0</th>\n",
       "      <td>Nick</td>\n",
       "      <td>nick.leonardo@nashville.gov</td>\n",
       "      <td>615-509-6334</td>\n",
       "      <td>615-862-6780</td>\n",
       "      <td>Leonardo</td>\n",
       "      <td>Council Member</td>\n",
       "      <td>1</td>\n",
       "      <td>MULTIPOLYGON (((-86.90738 36.39052, -86.90725 ...</td>\n",
       "      <td>0</td>\n",
       "      <td>Dr. Sharon</td>\n",
       "      <td>Nashville</td>\n",
       "      <td>37218</td>\n",
       "      <td>gentryfordistrict1@comcast.net</td>\n",
       "      <td>TN</td>\n",
       "      <td>Gentry</td>\n",
       "      <td>6108 Beals Lane</td>\n",
       "      <td>Member</td>\n",
       "      <td>2016</td>\n",
       "      <td>1</td>\n",
       "      <td>615-268-5269</td>\n",
       "    </tr>\n",
       "    <tr>\n",
       "      <th>1</th>\n",
       "      <td>DeCosta</td>\n",
       "      <td>decosta.hastings@nashville.gov</td>\n",
       "      <td>615-779-1565</td>\n",
       "      <td>615-862-6780</td>\n",
       "      <td>Hastings</td>\n",
       "      <td>Council Member</td>\n",
       "      <td>2</td>\n",
       "      <td>MULTIPOLYGON (((-86.75902 36.23091, -86.75909 ...</td>\n",
       "      <td>0</td>\n",
       "      <td>Dr. Sharon</td>\n",
       "      <td>Nashville</td>\n",
       "      <td>37218</td>\n",
       "      <td>gentryfordistrict1@comcast.net</td>\n",
       "      <td>TN</td>\n",
       "      <td>Gentry</td>\n",
       "      <td>6108 Beals Lane</td>\n",
       "      <td>Member</td>\n",
       "      <td>2016</td>\n",
       "      <td>1</td>\n",
       "      <td>615-268-5269</td>\n",
       "    </tr>\n",
       "    <tr>\n",
       "      <th>2</th>\n",
       "      <td>Nancy</td>\n",
       "      <td>nancy.vanreece@nashville.gov</td>\n",
       "      <td>615-576-0488</td>\n",
       "      <td>615-862-6780</td>\n",
       "      <td>VanReece</td>\n",
       "      <td>Council Member</td>\n",
       "      <td>8</td>\n",
       "      <td>MULTIPOLYGON (((-86.72850 36.28328, -86.72791 ...</td>\n",
       "      <td>1</td>\n",
       "      <td>Jill</td>\n",
       "      <td>Madison</td>\n",
       "      <td>37115</td>\n",
       "      <td>jill.speering@mnps.org</td>\n",
       "      <td>TN</td>\n",
       "      <td>Speering</td>\n",
       "      <td>1033 Falls Avenue</td>\n",
       "      <td>Vice-Chair</td>\n",
       "      <td>2016</td>\n",
       "      <td>3</td>\n",
       "      <td>615-562-5234</td>\n",
       "    </tr>\n",
       "    <tr>\n",
       "      <th>3</th>\n",
       "      <td>Bill</td>\n",
       "      <td>bill.pridemore@nashville.gov</td>\n",
       "      <td>615-915-1419</td>\n",
       "      <td>615-862-6780</td>\n",
       "      <td>Pridemore</td>\n",
       "      <td>Council Member</td>\n",
       "      <td>9</td>\n",
       "      <td>MULTIPOLYGON (((-86.68681 36.28671, -86.68706 ...</td>\n",
       "      <td>1</td>\n",
       "      <td>Jill</td>\n",
       "      <td>Madison</td>\n",
       "      <td>37115</td>\n",
       "      <td>jill.speering@mnps.org</td>\n",
       "      <td>TN</td>\n",
       "      <td>Speering</td>\n",
       "      <td>1033 Falls Avenue</td>\n",
       "      <td>Vice-Chair</td>\n",
       "      <td>2016</td>\n",
       "      <td>3</td>\n",
       "      <td>615-562-5234</td>\n",
       "    </tr>\n",
       "  </tbody>\n",
       "</table>\n",
       "</div>"
      ],
      "text/plain": [
       "  first_name_left                      email_left     res_phone     bus_phone  \\\n",
       "0            Nick     nick.leonardo@nashville.gov  615-509-6334  615-862-6780   \n",
       "1         DeCosta  decosta.hastings@nashville.gov  615-779-1565  615-862-6780   \n",
       "2           Nancy    nancy.vanreece@nashville.gov  615-576-0488  615-862-6780   \n",
       "3            Bill    bill.pridemore@nashville.gov  615-915-1419  615-862-6780   \n",
       "\n",
       "  last_name_left   position_left district_left  \\\n",
       "0       Leonardo  Council Member             1   \n",
       "1       Hastings  Council Member             2   \n",
       "2       VanReece  Council Member             8   \n",
       "3      Pridemore  Council Member             9   \n",
       "\n",
       "                                            geometry  index_right  \\\n",
       "0  MULTIPOLYGON (((-86.90738 36.39052, -86.90725 ...            0   \n",
       "1  MULTIPOLYGON (((-86.75902 36.23091, -86.75909 ...            0   \n",
       "2  MULTIPOLYGON (((-86.72850 36.28328, -86.72791 ...            1   \n",
       "3  MULTIPOLYGON (((-86.68681 36.28671, -86.68706 ...            1   \n",
       "\n",
       "  first_name_right       city    zip                     email_right state  \\\n",
       "0       Dr. Sharon  Nashville  37218  gentryfordistrict1@comcast.net    TN   \n",
       "1       Dr. Sharon  Nashville  37218  gentryfordistrict1@comcast.net    TN   \n",
       "2             Jill    Madison  37115          jill.speering@mnps.org    TN   \n",
       "3             Jill    Madison  37115          jill.speering@mnps.org    TN   \n",
       "\n",
       "  last_name_right            address position_right term_expir district_right  \\\n",
       "0          Gentry    6108 Beals Lane         Member       2016              1   \n",
       "1          Gentry    6108 Beals Lane         Member       2016              1   \n",
       "2        Speering  1033 Falls Avenue     Vice-Chair       2016              3   \n",
       "3        Speering  1033 Falls Avenue     Vice-Chair       2016              3   \n",
       "\n",
       "          phone  \n",
       "0  615-268-5269  \n",
       "1  615-268-5269  \n",
       "2  615-562-5234  \n",
       "3  615-562-5234  "
      ]
     },
     "execution_count": 21,
     "metadata": {},
     "output_type": "execute_result"
    }
   ],
   "source": [
    "within_gdf.head(4)"
   ]
  },
  {
   "cell_type": "markdown",
   "metadata": {},
   "source": [
    "***Note:*** if there are columns with the same name in the 2 geodataframes, the geodataframe resulted from the join operation will append `\"_left\"` and `\"_right\"` to know which column are from which dataframe. We can change the name of these columns explictly using `rename` method of the dataframe."
   ]
  },
  {
   "cell_type": "code",
   "execution_count": 23,
   "metadata": {},
   "outputs": [],
   "source": [
    "within_gdf.rename(\n",
    "    columns = {\n",
    "        \"district_left\": \"council_district\",\n",
    "        \"district_right\": \"school_district\"\n",
    "    },\n",
    "    inplace = True\n",
    ")"
   ]
  },
  {
   "cell_type": "markdown",
   "metadata": {},
   "source": [
    "We can observe which school districts contain the most council districts using a simple groupping and counting."
   ]
  },
  {
   "cell_type": "code",
   "execution_count": 26,
   "metadata": {},
   "outputs": [
    {
     "data": {
      "text/html": [
       "<div>\n",
       "<style scoped>\n",
       "    .dataframe tbody tr th:only-of-type {\n",
       "        vertical-align: middle;\n",
       "    }\n",
       "\n",
       "    .dataframe tbody tr th {\n",
       "        vertical-align: top;\n",
       "    }\n",
       "\n",
       "    .dataframe thead th {\n",
       "        text-align: right;\n",
       "    }\n",
       "</style>\n",
       "<table border=\"1\" class=\"dataframe\">\n",
       "  <thead>\n",
       "    <tr style=\"text-align: right;\">\n",
       "      <th></th>\n",
       "      <th>council_district</th>\n",
       "    </tr>\n",
       "    <tr>\n",
       "      <th>school_district</th>\n",
       "      <th></th>\n",
       "    </tr>\n",
       "  </thead>\n",
       "  <tbody>\n",
       "    <tr>\n",
       "      <th>3</th>\n",
       "      <td>3</td>\n",
       "    </tr>\n",
       "    <tr>\n",
       "      <th>1</th>\n",
       "      <td>2</td>\n",
       "    </tr>\n",
       "    <tr>\n",
       "      <th>9</th>\n",
       "      <td>2</td>\n",
       "    </tr>\n",
       "    <tr>\n",
       "      <th>2</th>\n",
       "      <td>1</td>\n",
       "    </tr>\n",
       "    <tr>\n",
       "      <th>5</th>\n",
       "      <td>1</td>\n",
       "    </tr>\n",
       "    <tr>\n",
       "      <th>6</th>\n",
       "      <td>1</td>\n",
       "    </tr>\n",
       "    <tr>\n",
       "      <th>8</th>\n",
       "      <td>1</td>\n",
       "    </tr>\n",
       "  </tbody>\n",
       "</table>\n",
       "</div>"
      ],
      "text/plain": [
       "                 council_district\n",
       "school_district                  \n",
       "3                               3\n",
       "1                               2\n",
       "9                               2\n",
       "2                               1\n",
       "5                               1\n",
       "6                               1\n",
       "8                               1"
      ]
     },
     "execution_count": 26,
     "metadata": {},
     "output_type": "execute_result"
    }
   ],
   "source": [
    "within_gdf[[\"council_district\", \"school_district\"]].groupby(\"school_district\").agg(\"count\").sort_values(\"council_district\", ascending = False)"
   ]
  },
  {
   "cell_type": "code",
   "execution_count": 28,
   "metadata": {},
   "outputs": [],
   "source": [
    "contains_gdf.rename(\n",
    "    columns = {\n",
    "        \"district_right\": \"council_district\",\n",
    "        \"district_left\": \"school_district\"\n",
    "    },\n",
    "    inplace = True\n",
    ")"
   ]
  },
  {
   "cell_type": "code",
   "execution_count": 35,
   "metadata": {},
   "outputs": [
    {
     "data": {
      "text/html": [
       "<div>\n",
       "<style scoped>\n",
       "    .dataframe tbody tr th:only-of-type {\n",
       "        vertical-align: middle;\n",
       "    }\n",
       "\n",
       "    .dataframe tbody tr th {\n",
       "        vertical-align: top;\n",
       "    }\n",
       "\n",
       "    .dataframe thead th {\n",
       "        text-align: right;\n",
       "    }\n",
       "</style>\n",
       "<table border=\"1\" class=\"dataframe\">\n",
       "  <thead>\n",
       "    <tr style=\"text-align: right;\">\n",
       "      <th></th>\n",
       "      <th>council_district</th>\n",
       "    </tr>\n",
       "    <tr>\n",
       "      <th>school_district</th>\n",
       "      <th></th>\n",
       "    </tr>\n",
       "  </thead>\n",
       "  <tbody>\n",
       "    <tr>\n",
       "      <th>3</th>\n",
       "      <td>3</td>\n",
       "    </tr>\n",
       "    <tr>\n",
       "      <th>1</th>\n",
       "      <td>2</td>\n",
       "    </tr>\n",
       "    <tr>\n",
       "      <th>9</th>\n",
       "      <td>2</td>\n",
       "    </tr>\n",
       "    <tr>\n",
       "      <th>2</th>\n",
       "      <td>1</td>\n",
       "    </tr>\n",
       "    <tr>\n",
       "      <th>5</th>\n",
       "      <td>1</td>\n",
       "    </tr>\n",
       "    <tr>\n",
       "      <th>6</th>\n",
       "      <td>1</td>\n",
       "    </tr>\n",
       "    <tr>\n",
       "      <th>8</th>\n",
       "      <td>1</td>\n",
       "    </tr>\n",
       "  </tbody>\n",
       "</table>\n",
       "</div>"
      ],
      "text/plain": [
       "                 council_district\n",
       "school_district                  \n",
       "3                               3\n",
       "1                               2\n",
       "9                               2\n",
       "2                               1\n",
       "5                               1\n",
       "6                               1\n",
       "8                               1"
      ]
     },
     "execution_count": 35,
     "metadata": {},
     "output_type": "execute_result"
    }
   ],
   "source": [
    "contains_gdf[[\"council_district\", \"school_district\"]].groupby(\"school_district\").agg(\"count\").sort_values(\"council_district\", ascending = False)"
   ]
  }
 ],
 "metadata": {
  "interpreter": {
   "hash": "fa5216fee35f452e5fdd4427fb34069b0db31c3292a7466921a974e4c2813772"
  },
  "kernelspec": {
   "display_name": "Python 3.9.6 64-bit",
   "language": "python",
   "name": "python3"
  },
  "language_info": {
   "codemirror_mode": {
    "name": "ipython",
    "version": 3
   },
   "file_extension": ".py",
   "mimetype": "text/x-python",
   "name": "python",
   "nbconvert_exporter": "python",
   "pygments_lexer": "ipython3",
   "version": "3.9.6"
  },
  "orig_nbformat": 4
 },
 "nbformat": 4,
 "nbformat_minor": 2
}
